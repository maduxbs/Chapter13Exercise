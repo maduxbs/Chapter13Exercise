{
 "cells": [
  {
   "cell_type": "markdown",
   "id": "8f90b315",
   "metadata": {},
   "source": [
    "## 5 Ex. "
   ]
  },
  {
   "cell_type": "code",
   "execution_count": null,
   "id": "8fa0a961",
   "metadata": {},
   "outputs": [],
   "source": [
    "# Import Tkinter module\n",
    "import tkinter as tk\n",
    "\n",
    "# Define a function to calculate the assessment value and property tax\n",
    "def calculate():\n",
    "    # Get the actual value from the entry widget\n",
    "    actual_value = float(entry.get())\n",
    "    # Calculate the assessment value as 60% of the actual value\n",
    "    assessment_value = actual_value * 0.6\n",
    "    # Calculate the property tax as $0.75 per $100 of the assessment value\n",
    "    property_tax = assessment_value * 0.0075\n",
    "    # Display the results in the labels\n",
    "    assessment_label.config(text=f\"Assessment value: ${assessment_value:.2f}\")\n",
    "    tax_label.config(text=f\"Property tax: ${property_tax:.2f}\")\n",
    "\n",
    "# Create the main window\n",
    "window = tk.Tk()\n",
    "window.title(\"Property Tax Calculator\")\n",
    "\n",
    "# Create a label to prompt the user for the actual value\n",
    "prompt_label = tk.Label(window, text=\"Enter the actual value of the property:\")\n",
    "prompt_label.pack()\n",
    "\n",
    "# Create an entry widget to get the user input\n",
    "entry = tk.Entry(window)\n",
    "entry.pack()\n",
    "\n",
    "# Create a button to trigger the calculation\n",
    "button = tk.Button(window, text=\"Calculate\", command=calculate)\n",
    "button.pack()\n",
    "\n",
    "# Create two labels to display the results\n",
    "assessment_label = tk.Label(window, text=\"Assessment value: \")\n",
    "assessment_label.pack()\n",
    "tax_label = tk.Label(window, text=\"Property tax: \")\n",
    "tax_label.pack()\n",
    "\n",
    "# Start the main event loop\n",
    "window.mainloop()"
   ]
  },
  {
   "cell_type": "markdown",
   "id": "e63ff9cb",
   "metadata": {},
   "source": [
    "it's a click on your run then you would see what is there said: \" Enter the actual value of property\"\n",
    "\n",
    "l will about guess $10,000 then result is the assessment value: $6,000 and final is the property tax is about $45.00\n",
    "\n",
    "Here is a line-by-line breakdownof what the code does:\n",
    "\n",
    "1. The first line imports the Tkinter module, which is a standard Python module for creating graphical user interfaces. \n",
    "\n",
    "2. The second line defines a function named calculate, which will perform the calculation of the assessment value and property tax based on the user input.\n",
    "\n",
    "3. The third line gets the actual value from the entry widget, which is a graphical element that allows the user to type in a value. The float function converts the input to a decimal number. \n",
    "\n",
    "4. The fourth line calculates the assessment value as 60% of the actual value, using the * operator for multplication. \n",
    "\n",
    "5. The fifth line calculates the property tax as $0.75 per $100 of the assessment value, using the * operator for multplication and the / operator for dividsion.\n",
    "\n",
    "6. The sixth and seventh lines display the results in the labels, which are graphical elements that show text. The config method changes the text attribute of the labels, using the f-string syntax to format the values with two decimal places. the:.2f specifier indicates that the value should be rounded to two digits after the decimal point. \n",
    "\n",
    "7. The ninth line creates the main window, which is the container for all the graphical elements. The window variable holds a reference to the window object. The title method sets the title of the window to \"property Tax Calculator\".\n",
    "\n",
    "8. The eleventh line creates a label to prompt the user for the actual value. The label variable holds a reference to the label object. The text attribute sets the text of the label to \"Enterthe actual value of the property.\". The pack method places the label in the window, using the default layout manager.\n",
    "\n",
    "9. The thirteenth line creates an entry widget to get the user input. The entry variable holds reference to the entry object. The pack method places the entry in the window, below the label. \n",
    "\n",
    "10. The seventeenth and eighteenth lines create two labels to diplay the results. The assessment_label and tax_label variables hold references to the label objects. The text attributes set the initial text of the labels to \"Assessment value:\" and \"Property tax:\" respectively. The pack methods place the labels in the window, below the button.\n",
    "\n",
    "11. The twentieth line starts the main event loop, which is a process that handles the user interactions and updates the window. The mainloop method keeps the window open until the user close it. "
   ]
  },
  {
   "cell_type": "code",
   "execution_count": null,
   "id": "4605cc3c",
   "metadata": {},
   "outputs": [],
   "source": []
  }
 ],
 "metadata": {
  "kernelspec": {
   "display_name": "Python 3 (ipykernel)",
   "language": "python",
   "name": "python3"
  },
  "language_info": {
   "codemirror_mode": {
    "name": "ipython",
    "version": 3
   },
   "file_extension": ".py",
   "mimetype": "text/x-python",
   "name": "python",
   "nbconvert_exporter": "python",
   "pygments_lexer": "ipython3",
   "version": "3.11.4"
  }
 },
 "nbformat": 4,
 "nbformat_minor": 5
}
